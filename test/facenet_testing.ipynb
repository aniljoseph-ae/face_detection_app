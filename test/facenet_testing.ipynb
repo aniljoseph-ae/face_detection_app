{
 "cells": [
  {
   "cell_type": "code",
   "execution_count": 1,
   "metadata": {},
   "outputs": [],
   "source": [
    "import cv2\n",
    "import numpy as np\n",
    "from mtcnn.mtcnn import MTCNN\n",
    "from keras.models import load_model\n",
    "import matplotlib.pyplot as plt\n",
    "import os\n"
   ]
  },
  {
   "cell_type": "code",
   "execution_count": 2,
   "metadata": {},
   "outputs": [],
   "source": [
    "# Change the current working directory to the specified path\n",
    "os.chdir(\"C:/Users/anilj.ANIL_JOSEPH/OneDrive/Desktop/face_detection_app\")"
   ]
  },
  {
   "cell_type": "code",
   "execution_count": 4,
   "metadata": {},
   "outputs": [
    {
     "name": "stdout",
     "output_type": "stream",
     "text": [
      "['arr_0', 'arr_1']\n"
     ]
    }
   ],
   "source": [
    "with np.load('models/Indian-celeb-embeddings.npz') as data:\n",
    "    print(data.files)"
   ]
  },
  {
   "cell_type": "code",
   "execution_count": 5,
   "metadata": {},
   "outputs": [],
   "source": [
    "# Load MTCNN face detector\n",
    "detector = MTCNN()"
   ]
  },
  {
   "cell_type": "code",
   "execution_count": 10,
   "metadata": {},
   "outputs": [
    {
     "name": "stdout",
     "output_type": "stream",
     "text": [
      "WARNING:tensorflow:No training configuration found in the save file, so the model was *not* compiled. Compile it manually.\n"
     ]
    }
   ],
   "source": [
    "# Load Facenet model\n",
    "model = load_model('models/facenet_model.h5')\n",
    "# Load face embeddings and labels from npz file\n",
    "with np.load('models/Indian-celeb-embeddings.npz') as data:\n",
    "    embeddings = data['arr_0']\n",
    "    labels = data['arr_1']"
   ]
  },
  {
   "cell_type": "code",
   "execution_count": 11,
   "metadata": {},
   "outputs": [],
   "source": [
    "# Define function to extract face embeddings\n",
    "def extract_face_embeddings(face):\n",
    "    face = cv2.resize(face, (224, 224))  # Resize the face image\n",
    "    face = face.astype('float32') / 255.0\n",
    "    face = np.expand_dims(face, axis=0)\n",
    "    embedding = model.predict(face)\n",
    "    return embedding\n",
    "\n",
    "# Define function to recognize faces\n",
    "def recognize_faces(face_embeddings):\n",
    "    distances = np.linalg.norm(face_embeddings - embeddings, axis=1)\n",
    "    indices = np.argmin(distances)\n",
    "    return labels[indices]"
   ]
  },
  {
   "cell_type": "code",
   "execution_count": 12,
   "metadata": {},
   "outputs": [],
   "source": [
    "\n",
    "# Load image file\n",
    "image_path = 'test/test_image.jpg'\n",
    "image = cv2.imread(image_path)"
   ]
  },
  {
   "cell_type": "code",
   "execution_count": 16,
   "metadata": {},
   "outputs": [
    {
     "name": "stdout",
     "output_type": "stream",
     "text": [
      "1/1 [==============================] - 0s 67ms/step\n",
      "1/1 [==============================] - 0s 27ms/step\n",
      "1/1 [==============================] - 0s 24ms/step\n",
      "1/1 [==============================] - 0s 24ms/step\n",
      "1/1 [==============================] - 0s 18ms/step\n",
      "1/1 [==============================] - 0s 16ms/step\n",
      "1/1 [==============================] - 0s 17ms/step\n",
      "1/1 [==============================] - 0s 20ms/step\n",
      "1/1 [==============================] - 0s 16ms/step\n",
      "1/1 [==============================] - 0s 17ms/step\n",
      "1/1 [==============================] - 0s 17ms/step\n",
      "4/4 [==============================] - 0s 5ms/step\n",
      "1/1 [==============================] - 0s 20ms/step\n"
     ]
    },
    {
     "ename": "error",
     "evalue": "OpenCV(4.10.0) D:\\a\\opencv-python\\opencv-python\\opencv\\modules\\imgproc\\src\\resize.cpp:3789: error: (-215:Assertion failed) !dsize.empty() in function 'cv::hal::resize'\n",
     "output_type": "error",
     "traceback": [
      "\u001b[1;31m---------------------------------------------------------------------------\u001b[0m",
      "\u001b[1;31merror\u001b[0m                                     Traceback (most recent call last)",
      "Cell \u001b[1;32mIn[16], line 15\u001b[0m\n\u001b[0;32m     12\u001b[0m face_image \u001b[38;5;241m=\u001b[39m face_image\u001b[38;5;241m.\u001b[39mastype(\u001b[38;5;124m'\u001b[39m\u001b[38;5;124mfloat32\u001b[39m\u001b[38;5;124m'\u001b[39m) \u001b[38;5;241m/\u001b[39m \u001b[38;5;241m255.0\u001b[39m\n\u001b[0;32m     13\u001b[0m face_image \u001b[38;5;241m=\u001b[39m np\u001b[38;5;241m.\u001b[39mexpand_dims(face_image, axis\u001b[38;5;241m=\u001b[39m\u001b[38;5;241m0\u001b[39m)\n\u001b[1;32m---> 15\u001b[0m embedding \u001b[38;5;241m=\u001b[39m \u001b[43mextract_face_embeddings\u001b[49m\u001b[43m(\u001b[49m\u001b[43mface_image\u001b[49m\u001b[43m)\u001b[49m\n\u001b[0;32m     16\u001b[0m recognized_label \u001b[38;5;241m=\u001b[39m recognize_faces(embedding)\n\u001b[0;32m     18\u001b[0m cv2\u001b[38;5;241m.\u001b[39mrectangle(image, (x, y), (x\u001b[38;5;241m+\u001b[39mwidth, y\u001b[38;5;241m+\u001b[39mheight), (\u001b[38;5;241m0\u001b[39m, \u001b[38;5;241m255\u001b[39m, \u001b[38;5;241m0\u001b[39m), \u001b[38;5;241m2\u001b[39m)\n",
      "Cell \u001b[1;32mIn[11], line 3\u001b[0m, in \u001b[0;36mextract_face_embeddings\u001b[1;34m(face)\u001b[0m\n\u001b[0;32m      2\u001b[0m \u001b[38;5;28;01mdef\u001b[39;00m \u001b[38;5;21mextract_face_embeddings\u001b[39m(face):\n\u001b[1;32m----> 3\u001b[0m     face \u001b[38;5;241m=\u001b[39m \u001b[43mcv2\u001b[49m\u001b[38;5;241;43m.\u001b[39;49m\u001b[43mresize\u001b[49m\u001b[43m(\u001b[49m\u001b[43mface\u001b[49m\u001b[43m,\u001b[49m\u001b[43m \u001b[49m\u001b[43m(\u001b[49m\u001b[38;5;241;43m224\u001b[39;49m\u001b[43m,\u001b[49m\u001b[43m \u001b[49m\u001b[38;5;241;43m224\u001b[39;49m\u001b[43m)\u001b[49m\u001b[43m)\u001b[49m  \u001b[38;5;66;03m# Resize the face image\u001b[39;00m\n\u001b[0;32m      4\u001b[0m     face \u001b[38;5;241m=\u001b[39m face\u001b[38;5;241m.\u001b[39mastype(\u001b[38;5;124m'\u001b[39m\u001b[38;5;124mfloat32\u001b[39m\u001b[38;5;124m'\u001b[39m) \u001b[38;5;241m/\u001b[39m \u001b[38;5;241m255.0\u001b[39m\n\u001b[0;32m      5\u001b[0m     face \u001b[38;5;241m=\u001b[39m np\u001b[38;5;241m.\u001b[39mexpand_dims(face, axis\u001b[38;5;241m=\u001b[39m\u001b[38;5;241m0\u001b[39m)\n",
      "\u001b[1;31merror\u001b[0m: OpenCV(4.10.0) D:\\a\\opencv-python\\opencv-python\\opencv\\modules\\imgproc\\src\\resize.cpp:3789: error: (-215:Assertion failed) !dsize.empty() in function 'cv::hal::resize'\n"
     ]
    }
   ],
   "source": [
    "if image is None:\n",
    "    print(f\"Error: Unable to load image file '{image_path}'\")\n",
    "else:\n",
    "    # Detect faces in the image\n",
    "    faces = detector.detect_faces(image)\n",
    "    \n",
    "    # Extract face embeddings and recognize faces\n",
    "    for face in faces:\n",
    "        x, y, width, height = face['box']\n",
    "        face_image = image[y:y+height, x:x+width]\n",
    "        face_image = cv2.resize(face_image, (160, 160))  # Resize the face image\n",
    "        face_image = face_image.astype('float32') / 255.0\n",
    "        face_image = np.expand_dims(face_image, axis=0)\n",
    "        \n",
    "        embedding = extract_face_embeddings(face_image)\n",
    "        recognized_label = recognize_faces(embedding)\n",
    "        \n",
    "        cv2.rectangle(image, (x, y), (x+width, y+height), (0, 255, 0), 2)\n",
    "        cv2.putText(image, recognized_label, (x, y-10), cv2.FONT_HERSHEY_SIMPLEX, 0.9, (0, 255, 0), 2)\n",
    "    \n",
    "    # Display the output\n",
    "    plt.imshow(cv2.cvtColor(image, cv2.COLOR_BGR2RGB))\n",
    "    plt.show()\n"
   ]
  },
  {
   "cell_type": "code",
   "execution_count": 19,
   "metadata": {},
   "outputs": [
    {
     "name": "stdout",
     "output_type": "stream",
     "text": [
      "WARNING:tensorflow:No training configuration found in the save file, so the model was *not* compiled. Compile it manually.\n"
     ]
    },
    {
     "ename": "ValueError",
     "evalue": "in user code:\n\n    File \"c:\\Users\\anilj.ANIL_JOSEPH\\anaconda3\\envs\\machine_test\\lib\\site-packages\\keras\\engine\\training.py\", line 2041, in predict_function  *\n        return step_function(self, iterator)\n    File \"c:\\Users\\anilj.ANIL_JOSEPH\\anaconda3\\envs\\machine_test\\lib\\site-packages\\keras\\engine\\training.py\", line 2027, in step_function  **\n        outputs = model.distribute_strategy.run(run_step, args=(data,))\n    File \"c:\\Users\\anilj.ANIL_JOSEPH\\anaconda3\\envs\\machine_test\\lib\\site-packages\\keras\\engine\\training.py\", line 2015, in run_step  **\n        outputs = model.predict_step(data)\n    File \"c:\\Users\\anilj.ANIL_JOSEPH\\anaconda3\\envs\\machine_test\\lib\\site-packages\\keras\\engine\\training.py\", line 1983, in predict_step\n        return self(x, training=False)\n    File \"c:\\Users\\anilj.ANIL_JOSEPH\\anaconda3\\envs\\machine_test\\lib\\site-packages\\keras\\utils\\traceback_utils.py\", line 70, in error_handler\n        raise e.with_traceback(filtered_tb) from None\n    File \"c:\\Users\\anilj.ANIL_JOSEPH\\anaconda3\\envs\\machine_test\\lib\\site-packages\\keras\\engine\\input_spec.py\", line 295, in assert_input_compatibility\n        raise ValueError(\n\n    ValueError: Input 0 of layer \"inception_resnet_v1\" is incompatible with the layer: expected shape=(None, 160, 160, 3), found shape=(None, 1, 160, 160, 3)\n",
     "output_type": "error",
     "traceback": [
      "\u001b[1;31m---------------------------------------------------------------------------\u001b[0m",
      "\u001b[1;31mValueError\u001b[0m                                Traceback (most recent call last)",
      "Cell \u001b[1;32mIn[19], line 52\u001b[0m\n\u001b[0;32m     49\u001b[0m face_image \u001b[38;5;241m=\u001b[39m face_image\u001b[38;5;241m.\u001b[39mastype(\u001b[38;5;124m'\u001b[39m\u001b[38;5;124mfloat32\u001b[39m\u001b[38;5;124m'\u001b[39m) \u001b[38;5;241m/\u001b[39m \u001b[38;5;241m255.0\u001b[39m\n\u001b[0;32m     50\u001b[0m face_image \u001b[38;5;241m=\u001b[39m np\u001b[38;5;241m.\u001b[39mexpand_dims(face_image, axis\u001b[38;5;241m=\u001b[39m\u001b[38;5;241m0\u001b[39m)\n\u001b[1;32m---> 52\u001b[0m embedding \u001b[38;5;241m=\u001b[39m \u001b[43mextract_face_embeddings\u001b[49m\u001b[43m(\u001b[49m\u001b[43mface_image\u001b[49m\u001b[43m)\u001b[49m\n\u001b[0;32m     53\u001b[0m recognized_label \u001b[38;5;241m=\u001b[39m recognize_faces(embedding)\n\u001b[0;32m     55\u001b[0m cv2\u001b[38;5;241m.\u001b[39mrectangle(image, (x, y), (x\u001b[38;5;241m+\u001b[39mwidth, y\u001b[38;5;241m+\u001b[39mheight), (\u001b[38;5;241m0\u001b[39m, \u001b[38;5;241m255\u001b[39m, \u001b[38;5;241m0\u001b[39m), \u001b[38;5;241m2\u001b[39m)\n",
      "Cell \u001b[1;32mIn[19], line 13\u001b[0m, in \u001b[0;36mextract_face_embeddings\u001b[1;34m(face)\u001b[0m\n\u001b[0;32m     11\u001b[0m face \u001b[38;5;241m=\u001b[39m face\u001b[38;5;241m.\u001b[39mastype(\u001b[38;5;124m'\u001b[39m\u001b[38;5;124mfloat32\u001b[39m\u001b[38;5;124m'\u001b[39m) \u001b[38;5;241m/\u001b[39m \u001b[38;5;241m255.0\u001b[39m\n\u001b[0;32m     12\u001b[0m face \u001b[38;5;241m=\u001b[39m np\u001b[38;5;241m.\u001b[39mexpand_dims(face, axis\u001b[38;5;241m=\u001b[39m\u001b[38;5;241m0\u001b[39m)\n\u001b[1;32m---> 13\u001b[0m embedding \u001b[38;5;241m=\u001b[39m \u001b[43mmodel\u001b[49m\u001b[38;5;241;43m.\u001b[39;49m\u001b[43mpredict\u001b[49m\u001b[43m(\u001b[49m\u001b[43mface\u001b[49m\u001b[43m)\u001b[49m\n\u001b[0;32m     14\u001b[0m \u001b[38;5;28;01mreturn\u001b[39;00m embedding\n",
      "File \u001b[1;32mc:\\Users\\anilj.ANIL_JOSEPH\\anaconda3\\envs\\machine_test\\lib\\site-packages\\keras\\utils\\traceback_utils.py:70\u001b[0m, in \u001b[0;36mfilter_traceback.<locals>.error_handler\u001b[1;34m(*args, **kwargs)\u001b[0m\n\u001b[0;32m     67\u001b[0m     filtered_tb \u001b[38;5;241m=\u001b[39m _process_traceback_frames(e\u001b[38;5;241m.\u001b[39m__traceback__)\n\u001b[0;32m     68\u001b[0m     \u001b[38;5;66;03m# To get the full stack trace, call:\u001b[39;00m\n\u001b[0;32m     69\u001b[0m     \u001b[38;5;66;03m# `tf.debugging.disable_traceback_filtering()`\u001b[39;00m\n\u001b[1;32m---> 70\u001b[0m     \u001b[38;5;28;01mraise\u001b[39;00m e\u001b[38;5;241m.\u001b[39mwith_traceback(filtered_tb) \u001b[38;5;28;01mfrom\u001b[39;00m \u001b[38;5;28;01mNone\u001b[39;00m\n\u001b[0;32m     71\u001b[0m \u001b[38;5;28;01mfinally\u001b[39;00m:\n\u001b[0;32m     72\u001b[0m     \u001b[38;5;28;01mdel\u001b[39;00m filtered_tb\n",
      "File \u001b[1;32mC:\\Users\\ANILJ~1.ANI\\AppData\\Local\\Temp\\__autograph_generated_filenmqokn5d.py:15\u001b[0m, in \u001b[0;36mouter_factory.<locals>.inner_factory.<locals>.tf__predict_function\u001b[1;34m(iterator)\u001b[0m\n\u001b[0;32m     13\u001b[0m \u001b[38;5;28;01mtry\u001b[39;00m:\n\u001b[0;32m     14\u001b[0m     do_return \u001b[38;5;241m=\u001b[39m \u001b[38;5;28;01mTrue\u001b[39;00m\n\u001b[1;32m---> 15\u001b[0m     retval_ \u001b[38;5;241m=\u001b[39m ag__\u001b[38;5;241m.\u001b[39mconverted_call(ag__\u001b[38;5;241m.\u001b[39mld(step_function), (ag__\u001b[38;5;241m.\u001b[39mld(\u001b[38;5;28mself\u001b[39m), ag__\u001b[38;5;241m.\u001b[39mld(iterator)), \u001b[38;5;28;01mNone\u001b[39;00m, fscope)\n\u001b[0;32m     16\u001b[0m \u001b[38;5;28;01mexcept\u001b[39;00m:\n\u001b[0;32m     17\u001b[0m     do_return \u001b[38;5;241m=\u001b[39m \u001b[38;5;28;01mFalse\u001b[39;00m\n",
      "\u001b[1;31mValueError\u001b[0m: in user code:\n\n    File \"c:\\Users\\anilj.ANIL_JOSEPH\\anaconda3\\envs\\machine_test\\lib\\site-packages\\keras\\engine\\training.py\", line 2041, in predict_function  *\n        return step_function(self, iterator)\n    File \"c:\\Users\\anilj.ANIL_JOSEPH\\anaconda3\\envs\\machine_test\\lib\\site-packages\\keras\\engine\\training.py\", line 2027, in step_function  **\n        outputs = model.distribute_strategy.run(run_step, args=(data,))\n    File \"c:\\Users\\anilj.ANIL_JOSEPH\\anaconda3\\envs\\machine_test\\lib\\site-packages\\keras\\engine\\training.py\", line 2015, in run_step  **\n        outputs = model.predict_step(data)\n    File \"c:\\Users\\anilj.ANIL_JOSEPH\\anaconda3\\envs\\machine_test\\lib\\site-packages\\keras\\engine\\training.py\", line 1983, in predict_step\n        return self(x, training=False)\n    File \"c:\\Users\\anilj.ANIL_JOSEPH\\anaconda3\\envs\\machine_test\\lib\\site-packages\\keras\\utils\\traceback_utils.py\", line 70, in error_handler\n        raise e.with_traceback(filtered_tb) from None\n    File \"c:\\Users\\anilj.ANIL_JOSEPH\\anaconda3\\envs\\machine_test\\lib\\site-packages\\keras\\engine\\input_spec.py\", line 295, in assert_input_compatibility\n        raise ValueError(\n\n    ValueError: Input 0 of layer \"inception_resnet_v1\" is incompatible with the layer: expected shape=(None, 160, 160, 3), found shape=(None, 1, 160, 160, 3)\n"
     ]
    }
   ],
   "source": [
    "import cv2\n",
    "import numpy as np\n",
    "import matplotlib.pyplot as plt\n",
    "from keras.models import load_model\n",
    "\n",
    "# Load FaceNet model\n",
    "model = load_model('models/facenet_model.h5')\n",
    "\n",
    "# Define function to extract face embeddings\n",
    "def extract_face_embeddings(face):\n",
    "    face = face.astype('float32') / 255.0\n",
    "    face = np.expand_dims(face, axis=0)\n",
    "    embedding = model.predict(face)\n",
    "    return embedding\n",
    "\n",
    "# Define function to recognize faces\n",
    "def recognize_faces(embedding):\n",
    "    # Load face embeddings and labels from npz file\n",
    "    with np.load('models/face_embeddings.npz') as data:\n",
    "        embeddings = data['arr_0']\n",
    "        labels = data['arr_1']\n",
    "\n",
    "    # Calculate Euclidean distance between embeddings\n",
    "    distances = np.linalg.norm(embeddings - embedding, axis=1)\n",
    "\n",
    "    # Get the index of the minimum distance (i.e., the closest match)\n",
    "    idx = np.argmin(distances)\n",
    "\n",
    "    # Get the corresponding label\n",
    "    label = labels[idx]\n",
    "    return label\n",
    "\n",
    "# Load image\n",
    "image_path = 'test/test_image.jpg'\n",
    "image = cv2.imread(image_path)\n",
    "\n",
    "# Check if image is loaded successfully\n",
    "if image is None:\n",
    "    print(f\"Error: Unable to load image file '{image_path}'\")\n",
    "else:\n",
    "    # Detect faces in the image\n",
    "    detector = cv2.CascadeClassifier(cv2.data.haarcascades + 'haarcascade_frontalface_default.xml')\n",
    "    faces = detector.detectMultiScale(image)\n",
    "\n",
    "    # Extract face embeddings and recognize faces\n",
    "    for (x, y, width, height) in faces:\n",
    "        face_image = image[y:y+height, x:x+width]\n",
    "        face_image = cv2.resize(face_image, (160, 160))  # Resize the face image\n",
    "        face_image = face_image.astype('float32') / 255.0\n",
    "        face_image = np.expand_dims(face_image, axis=0)\n",
    "\n",
    "        embedding = extract_face_embeddings(face_image)\n",
    "        recognized_label = recognize_faces(embedding)\n",
    "\n",
    "        cv2.rectangle(image, (x, y), (x+width, y+height), (0, 255, 0), 2)\n",
    "        cv2.putText(image, recognized_label, (x, y-10), cv2.FONT_HERSHEY_SIMPLEX, 0.9, (0, 255, 0), 2)\n",
    "\n",
    "    # Display the output\n",
    "    plt.imshow(cv2.cvtColor(image, cv2.COLOR_BGR2RGB))\n",
    "    plt.show()\n"
   ]
  },
  {
   "cell_type": "code",
   "execution_count": null,
   "metadata": {},
   "outputs": [],
   "source": []
  }
 ],
 "metadata": {
  "kernelspec": {
   "display_name": "MachineTest",
   "language": "python",
   "name": "machine_test"
  },
  "language_info": {
   "codemirror_mode": {
    "name": "ipython",
    "version": 3
   },
   "file_extension": ".py",
   "mimetype": "text/x-python",
   "name": "python",
   "nbconvert_exporter": "python",
   "pygments_lexer": "ipython3",
   "version": "3.8.20"
  }
 },
 "nbformat": 4,
 "nbformat_minor": 2
}
